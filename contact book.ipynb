{
 "cells": [
  {
   "cell_type": "code",
   "execution_count": 76,
   "id": "c992dec1-ffbd-4b06-b6f8-ff06aba1e3eb",
   "metadata": {
    "tags": []
   },
   "outputs": [
    {
     "name": "stdout",
     "output_type": "stream",
     "text": [
      "Welcome to the contact book !\n",
      "\n",
      "\n",
      "Type 1 to add a new contact. \n",
      "Type 2 to search the contact.\n",
      "Type 3 to delete the contact.\n",
      "Type 4 to view the contact list.\n",
      "Type 5 to update the contact.\n",
      "Type 0 to exit the app.\n"
     ]
    },
    {
     "name": "stdin",
     "output_type": "stream",
     "text": [
      " 1\n"
     ]
    },
    {
     "name": "stdout",
     "output_type": "stream",
     "text": [
      "Enter Name : \n"
     ]
    },
    {
     "name": "stdin",
     "output_type": "stream",
     "text": [
      " rajas\n"
     ]
    },
    {
     "name": "stdout",
     "output_type": "stream",
     "text": [
      "Enter Phone number : \n"
     ]
    },
    {
     "name": "stdin",
     "output_type": "stream",
     "text": [
      " sdad\n"
     ]
    },
    {
     "name": "stdout",
     "output_type": "stream",
     "text": [
      "Enter Email : \n"
     ]
    },
    {
     "name": "stdin",
     "output_type": "stream",
     "text": [
      " dsfad\n"
     ]
    },
    {
     "name": "stdout",
     "output_type": "stream",
     "text": [
      "Enter address : \n"
     ]
    },
    {
     "name": "stdin",
     "output_type": "stream",
     "text": [
      " sdaf\n"
     ]
    },
    {
     "name": "stdout",
     "output_type": "stream",
     "text": [
      "\n",
      "\n",
      "Contact saved as  Rajas !\n",
      "\n",
      "Type 1 to add a new contact. \n",
      "Type 2 to search the contact.\n",
      "Type 3 to delete the contact.\n",
      "Type 4 to view the contact list.\n",
      "Type 5 to update the contact.\n",
      "Type 0 to exit the app.\n"
     ]
    },
    {
     "name": "stdin",
     "output_type": "stream",
     "text": [
      " 2\n"
     ]
    },
    {
     "name": "stdout",
     "output_type": "stream",
     "text": [
      "\n",
      "Type the name or number.\n"
     ]
    },
    {
     "name": "stdin",
     "output_type": "stream",
     "text": [
      " rAjas\n"
     ]
    },
    {
     "name": "stdout",
     "output_type": "stream",
     "text": [
      "\n",
      "{'Name': 'Rajas', 'Number': 'sdad', 'Email': 'dsfad', 'Address': 'sdaf'}\n",
      "\n",
      "Type 1 to add a new contact. \n",
      "Type 2 to search the contact.\n",
      "Type 3 to delete the contact.\n",
      "Type 4 to view the contact list.\n",
      "Type 5 to update the contact.\n",
      "Type 0 to exit the app.\n"
     ]
    },
    {
     "name": "stdin",
     "output_type": "stream",
     "text": [
      " 0\n"
     ]
    },
    {
     "name": "stdout",
     "output_type": "stream",
     "text": [
      "Bye!\n"
     ]
    }
   ],
   "source": [
    "print(\"Welcome to the contact book !\\n\\n\")\n",
    " \n",
    "\n",
    "people=[]\n",
    "while True:\n",
    "    print(\"Type 1 to add a new contact. \\n\"\n",
    "      \"Type 2 to search the contact.\\n\"\n",
    "      \"Type 3 to delete the contact.\\n\"\n",
    "      \"Type 4 to view the contact list.\\n\"\n",
    "      \"Type 5 to update the contact.\\n\"\n",
    "      \"Type 0 to exit the app.\")\n",
    "\n",
    "    choose=int(input().strip())\n",
    "\n",
    "    match choose:\n",
    "        case 1:\n",
    "            print(\"Enter Name : \" )\n",
    "            Name=input().capitalize()\n",
    "            print(\"Enter Phone number : \")\n",
    "            Number=input()\n",
    "            print(\"Enter Email : \")\n",
    "            email=input()\n",
    "            print(\"Enter address : \")\n",
    "            address=input()\n",
    "            \n",
    "            person={\n",
    "            'Name':Name,\n",
    "            'Number':Number,\n",
    "            'Email':email,\n",
    "            'Address':address}\n",
    "            \n",
    "            people.append(person)\n",
    "            \n",
    "            print(\"\\n\\nContact saved as \",Name,\"!\\n\")\n",
    "            \n",
    "        case 4:\n",
    "            for person in people:\n",
    "                for key,values in person.items():\n",
    "                    print(key,values)\n",
    "                print(\"\\n\") \n",
    "                \n",
    "        case 0:\n",
    "            print(\"Bye!\")\n",
    "            break;\n",
    "            \n",
    "        case 2:\n",
    "            print(\"\\nType the name or number.\")\n",
    "            x=input().capitalize()\n",
    "            flag=False\n",
    "            for person in people:\n",
    "                for values in person.values():\n",
    "                    if(values==x):\n",
    "                        print(f\"\\n{person}\\n\")\n",
    "                        flag=True\n",
    "                        \n",
    "            if(flag==False):\n",
    "                    print(\"\\nNo matching contact found !!\\n\")\n",
    "                    \n",
    "                    \n",
    "                    \n",
    "        case 3:\n",
    "            print(\"\\nName OR Number of the contact you want to delete.\")\n",
    "            y=input().capitalize()\n",
    "            print(\"Are you sure you want to delete the contact?(yes/no)\")\n",
    "            z=input().strip().lower()\n",
    "            if(z=='no'):\n",
    "                break\n",
    "            if(z=='yes'):\n",
    "                 for person in people:\n",
    "                    for values in person.values():\n",
    "                        if(values==y):\n",
    "                            people.remove(person)\n",
    "                    print(\"Contact has been successfully deleted.\\n\\n\")           \n",
    "                            \n",
    "                           \n",
    "        case 5:\n",
    "            print(\"\\nEnter the name or number of the contact you want to edit!\\n\")\n",
    "            a=input().capitalize()\n",
    "            flg=False\n",
    "            for person in people:\n",
    "                for values in person.values():\n",
    "                    if(values==a):\n",
    "                        print(f\"\\n{person}\\n\")\n",
    "                        print(\"Enter new details:\")\n",
    "                        new_name = input(\"New Name: \")   \n",
    "                        new_number = input(\"New Number: \")\n",
    "                        new_email = input(\"New Email: \")\n",
    "                        new_address = input(\"New Address: \")\n",
    "                        \n",
    "                        person.update({'Name': new_name, 'Number': new_number, 'Email': new_email, 'Address': new_address})\n",
    "                        print(f\"\\nContact {x} has been updated.\\n\")\n",
    "                        flg = True\n",
    "                        break\n",
    "\n",
    "            if not flg:\n",
    "                    print(\"\\nNo matching contact found to update!\\n\")\n",
    "                        \n",
    "                         \n",
    "                            \n",
    "                        \n",
    "                        \n",
    "                        \n",
    "                        \n",
    "                        \n",
    "                \n",
    "            \n",
    "                \n",
    "                \n",
    "                \n",
    "             \n",
    "\n",
    "        \n",
    "        \n",
    "        "
   ]
  },
  {
   "cell_type": "code",
   "execution_count": null,
   "id": "554d839e-a58b-45b5-8078-496d21a53df3",
   "metadata": {},
   "outputs": [],
   "source": []
  },
  {
   "cell_type": "code",
   "execution_count": null,
   "id": "8465c55b-7417-4ce2-bcdc-d0cb89e17f98",
   "metadata": {},
   "outputs": [],
   "source": []
  },
  {
   "cell_type": "code",
   "execution_count": null,
   "id": "e18e0f0c-2e2a-4d97-a453-0bc66c010a73",
   "metadata": {},
   "outputs": [],
   "source": []
  },
  {
   "cell_type": "code",
   "execution_count": null,
   "id": "bab6a70b-dc51-453d-b264-13fcd743e5c9",
   "metadata": {},
   "outputs": [],
   "source": []
  }
 ],
 "metadata": {
  "kernelspec": {
   "display_name": "Python 3 (ipykernel)",
   "language": "python",
   "name": "python3"
  },
  "language_info": {
   "codemirror_mode": {
    "name": "ipython",
    "version": 3
   },
   "file_extension": ".py",
   "mimetype": "text/x-python",
   "name": "python",
   "nbconvert_exporter": "python",
   "pygments_lexer": "ipython3",
   "version": "3.11.7"
  }
 },
 "nbformat": 4,
 "nbformat_minor": 5
}
