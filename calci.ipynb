{
 "cells": [
  {
   "cell_type": "code",
   "execution_count": 71,
   "id": "951c4c29-9e61-4f9d-8983-035d0bbf71ce",
   "metadata": {
    "tags": []
   },
   "outputs": [
    {
     "name": "stdout",
     "output_type": "stream",
     "text": [
      "Enter the first number :\n"
     ]
    },
    {
     "name": "stdin",
     "output_type": "stream",
     "text": [
      " 4\n"
     ]
    },
    {
     "name": "stdout",
     "output_type": "stream",
     "text": [
      "Enter the second number :\n"
     ]
    },
    {
     "name": "stdin",
     "output_type": "stream",
     "text": [
      " 0\n"
     ]
    },
    {
     "name": "stdout",
     "output_type": "stream",
     "text": [
      "The 4 available arithmetic operations you can perform are:\n",
      "1.Add---> +\n",
      "2.Subtract---> -\n",
      "3.Multiply---> *\n",
      "4.Divide---> /\n",
      "Please enter appropriate symbol of the operation you want to perform!\n"
     ]
    },
    {
     "name": "stdin",
     "output_type": "stream",
     "text": [
      " /\n"
     ]
    },
    {
     "name": "stdout",
     "output_type": "stream",
     "text": [
      "Not defined\n"
     ]
    }
   ],
   "source": [
    "print(\"Enter the first number :\")\n",
    "a=int(input())\n",
    "print(\"Enter the second number :\")\n",
    "b=int(input())\n",
    "print(\"The 4 available arithmetic operations you can perform are:\\n\"\n",
    "      \"1.Add---> +\\n\"\n",
    "      \"2.Subtract---> -\\n\"\n",
    "      \"3.Multiply---> *\\n\"\n",
    "      \"4.Divide---> /\")\n",
    "d=\"Please enter appropriate symbol of the operation you want to perform!\"\n",
    "while True:\n",
    "    print(d)\n",
    "    c=input()\n",
    "    if c in ['+','-','/','*']:\n",
    "        break\n",
    "    \n",
    "if(c==\"*\"):\n",
    "    print(\"The answer of your multiplication is: \",a,\"x\",b,\"=\",a*b)\n",
    "elif(c==\"+\"):    \n",
    "    print(\"The answer of your addition is :\",a,\"+\",b,\"=\",a+b)\n",
    "elif(c==\"-\"):    \n",
    "    print(\"The answer of your subtraction is :\",a,\"-\",b,\"=\",a-b)\n",
    "elif(c==\"/\"): \n",
    "    if(b!=0):\n",
    "        print(\"The answer of your division is :\",a,\"/\",b,\"=\",a/b)\n",
    "    else:     \n",
    "        print(\"Not defined\")"
   ]
  },
  {
   "cell_type": "code",
   "execution_count": null,
   "id": "5cb4117e-e54b-4e36-baed-c3d18cb9ed99",
   "metadata": {},
   "outputs": [],
   "source": []
  },
  {
   "cell_type": "code",
   "execution_count": null,
   "id": "8271bb4a-a4b5-4db3-abf4-9c572c3dc972",
   "metadata": {},
   "outputs": [],
   "source": []
  },
  {
   "cell_type": "code",
   "execution_count": null,
   "id": "a611c637-1a37-4eee-8c99-eedeaf999f60",
   "metadata": {},
   "outputs": [],
   "source": []
  }
 ],
 "metadata": {
  "kernelspec": {
   "display_name": "Python 3 (ipykernel)",
   "language": "python",
   "name": "python3"
  },
  "language_info": {
   "codemirror_mode": {
    "name": "ipython",
    "version": 3
   },
   "file_extension": ".py",
   "mimetype": "text/x-python",
   "name": "python",
   "nbconvert_exporter": "python",
   "pygments_lexer": "ipython3",
   "version": "3.11.7"
  }
 },
 "nbformat": 4,
 "nbformat_minor": 5
}
