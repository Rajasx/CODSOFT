{
 "cells": [
  {
   "cell_type": "code",
   "execution_count": null,
   "id": "8a3dc1ad-ad1b-47ee-864d-c593745be0f5",
   "metadata": {
    "tags": []
   },
   "outputs": [
    {
     "name": "stdout",
     "output_type": "stream",
     "text": [
      "Okay!! So let's play the game!\n",
      "Here are some rules:\n",
      "To choose rock type R\n",
      "To choose paper type P\n",
      "To choose scissor type S\n",
      "\n",
      "Enter your choice:\n"
     ]
    }
   ],
   "source": [
    "import random\n",
    "\n",
    "list = ['rock', 'paper', 'scissors']\n",
    "\n",
    "print(\"Okay!! So let's play the game!\")\n",
    "print(\"Here are some rules:\\n\"\n",
    "      \"To choose rock type R\\n\"\n",
    "      \"To choose paper type P\\n\"\n",
    "      \"To choose scissor type S\\n\")\n",
    "\n",
    "user_score = 0\n",
    "comp_score = 0\n",
    "\n",
    "def get_user_choice():\n",
    "    \n",
    "    while True:\n",
    "        print(\"Enter your choice:\")\n",
    "        user_input = input().strip().upper()\n",
    "        user_choice = {\n",
    "            'R': 'rock',\n",
    "            'P': 'paper',\n",
    "            'S': 'scissors'\n",
    "        }.get(user_input)\n",
    "        \n",
    "        if user_choice:\n",
    "            return user_choice\n",
    "        else:\n",
    "            print(\"Invalid choice! Please choose R, P, or S.\")\n",
    "\n",
    "def play_game():\n",
    "    \n",
    "    global user_score, comp_score\n",
    "\n",
    "    computer_choice = random.choice(list)\n",
    "    user_choice = get_user_choice()\n",
    "    \n",
    "    print(\"You chose:\", user_choice)\n",
    "    print(\"I (Computer) chose:\", computer_choice)\n",
    "\n",
    "    match (user_choice, computer_choice):\n",
    "        case ('rock', 'scissors') | ('paper', 'rock') | ('scissors', 'paper'):\n",
    "            result = \"Congrats, You win!\"\n",
    "            user_score += 1\n",
    "        case ('rock', 'paper') | ('paper', 'scissors') | ('scissors', 'rock'):\n",
    "            result = \"Oh no, You lose!\"\n",
    "            comp_score += 1\n",
    "        case _:\n",
    "            result = \"It's a tie!\"\n",
    "\n",
    "    print(result)\n",
    "\n",
    "while True:\n",
    "    play_game()\n",
    "\n",
    "    print(\"\\nDo you want to play again? (yes/no)\")\n",
    "    replay = input().strip().lower()\n",
    "\n",
    "    if replay not in ('yes', 'ye', 'y'):\n",
    "        print(\"\\nThanks for playing! Goodbye!\")\n",
    "        print(\"Here are the final scores:\")\n",
    "        print(\"You --->\", user_score)\n",
    "        print(\"Computer --->\", comp_score)\n",
    "        break\n"
   ]
  },
  {
   "cell_type": "code",
   "execution_count": null,
   "id": "08cd01c6-84fc-43d5-9ed2-da3c3e5e877a",
   "metadata": {},
   "outputs": [],
   "source": []
  }
 ],
 "metadata": {
  "kernelspec": {
   "display_name": "Python 3 (ipykernel)",
   "language": "python",
   "name": "python3"
  },
  "language_info": {
   "codemirror_mode": {
    "name": "ipython",
    "version": 3
   },
   "file_extension": ".py",
   "mimetype": "text/x-python",
   "name": "python",
   "nbconvert_exporter": "python",
   "pygments_lexer": "ipython3",
   "version": "3.11.7"
  }
 },
 "nbformat": 4,
 "nbformat_minor": 5
}
